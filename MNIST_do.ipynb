{
  "nbformat": 4,
  "nbformat_minor": 0,
  "metadata": {
    "colab": {
      "name": "MNIST_do.ipynb",
      "version": "0.3.2",
      "provenance": [],
      "collapsed_sections": []
    },
    "kernelspec": {
      "name": "python3",
      "display_name": "Python 3"
    },
    "accelerator": "TPU"
  },
  "cells": [
    {
      "cell_type": "markdown",
      "metadata": {
        "id": "z47Kx1O9btgV",
        "colab_type": "text"
      },
      "source": [
        "#1. Import dependencies#"
      ]
    },
    {
      "cell_type": "code",
      "metadata": {
        "id": "vGdzLyjvbSlY",
        "colab_type": "code",
        "colab": {}
      },
      "source": [
        "import tensorflow as tf\n",
        "import numpy as np\n",
        "import os\n",
        "import pprint\n",
        "from tensorflow.keras.layers import Conv2D, Dense, MaxPooling2D, Dropout, Flatten \n",
        "import pandas as pd\n",
        "import matplotlib.pyplot as plt"
      ],
      "execution_count": 0,
      "outputs": []
    },
    {
      "cell_type": "markdown",
      "metadata": {
        "id": "1ksZ8e0PbyNE",
        "colab_type": "text"
      },
      "source": [
        "#2.Test TPUs#"
      ]
    },
    {
      "cell_type": "code",
      "metadata": {
        "id": "woC_WjaCb1uk",
        "colab_type": "code",
        "outputId": "a9f1caa6-b1de-47d4-b59a-0cc56528278d",
        "colab": {
          "base_uri": "https://localhost:8080/",
          "height": 271
        }
      },
      "source": [
        "devices=None\n",
        "try:\n",
        "    device_name = os.environ['COLAB_TPU_ADDR']\n",
        "    TPU_addr = 'grpc://' + device_name\n",
        "    print('TPU URL:', TPU_addr)\n",
        "    with tf.Session(TPU_addr) as session:\n",
        "        devices=session.list_devices()\n",
        "    print('TPU devices:')\n",
        "    pprint.pprint(devices)\n",
        "except KeyError:\n",
        "    print('TPU not installed in this runtime.')\n",
        "    \n",
        "  "
      ],
      "execution_count": 0,
      "outputs": [
        {
          "output_type": "stream",
          "text": [
            "TPU URL: grpc://10.116.250.106:8470\n",
            "TPU devices:\n",
            "[_DeviceAttributes(/job:tpu_worker/replica:0/task:0/device:CPU:0, CPU, -1, 4767761637097841020),\n",
            " _DeviceAttributes(/job:tpu_worker/replica:0/task:0/device:XLA_CPU:0, XLA_CPU, 17179869184, 15320465834878527478),\n",
            " _DeviceAttributes(/job:tpu_worker/replica:0/task:0/device:TPU:0, TPU, 17179869184, 6255467983292631391),\n",
            " _DeviceAttributes(/job:tpu_worker/replica:0/task:0/device:TPU:1, TPU, 17179869184, 1977746659073531231),\n",
            " _DeviceAttributes(/job:tpu_worker/replica:0/task:0/device:TPU:2, TPU, 17179869184, 12074703543390021334),\n",
            " _DeviceAttributes(/job:tpu_worker/replica:0/task:0/device:TPU:3, TPU, 17179869184, 12298909711486255561),\n",
            " _DeviceAttributes(/job:tpu_worker/replica:0/task:0/device:TPU:4, TPU, 17179869184, 5376996096278254682),\n",
            " _DeviceAttributes(/job:tpu_worker/replica:0/task:0/device:TPU:5, TPU, 17179869184, 6975544890396513222),\n",
            " _DeviceAttributes(/job:tpu_worker/replica:0/task:0/device:TPU:6, TPU, 17179869184, 1475392729216552068),\n",
            " _DeviceAttributes(/job:tpu_worker/replica:0/task:0/device:TPU:7, TPU, 17179869184, 15561394701472315570),\n",
            " _DeviceAttributes(/job:tpu_worker/replica:0/task:0/device:TPU_SYSTEM:0, TPU_SYSTEM, 17179869184, 3920087705855482698)]\n"
          ],
          "name": "stdout"
        }
      ]
    },
    {
      "cell_type": "markdown",
      "metadata": {
        "id": "R1QROAXUdFrN",
        "colab_type": "text"
      },
      "source": [
        "#3.AUTH for google drive#"
      ]
    },
    {
      "cell_type": "code",
      "metadata": {
        "id": "DMdxMGaBdMYj",
        "colab_type": "code",
        "outputId": "d5df7c95-2489-4685-d394-4e0c54157ae2",
        "colab": {
          "base_uri": "https://localhost:8080/",
          "height": 145
        }
      },
      "source": [
        "#import os\n",
        "from google.colab import drive\n",
        "drive.mount('/content/gdrive')\n",
        "os.chdir(\"/content/gdrive/My Drive/MNIST_custom\")\n",
        "!ls"
      ],
      "execution_count": 0,
      "outputs": [
        {
          "output_type": "stream",
          "text": [
            "Go to this URL in a browser: https://accounts.google.com/o/oauth2/auth?client_id=947318989803-6bn6qk8qdgf4n4g3pfee6491hc0brc4i.apps.googleusercontent.com&redirect_uri=urn%3Aietf%3Awg%3Aoauth%3A2.0%3Aoob&scope=email%20https%3A%2F%2Fwww.googleapis.com%2Fauth%2Fdocs.test%20https%3A%2F%2Fwww.googleapis.com%2Fauth%2Fdrive%20https%3A%2F%2Fwww.googleapis.com%2Fauth%2Fdrive.photos.readonly%20https%3A%2F%2Fwww.googleapis.com%2Fauth%2Fpeopleapi.readonly&response_type=code\n",
            "\n",
            "Enter your authorization code:\n",
            "··········\n",
            "Mounted at /content/gdrive\n",
            "MNIST_do.ipynb\tsample_submission.csv  submission.csv  test.csv  train.csv\n"
          ],
          "name": "stdout"
        }
      ]
    },
    {
      "cell_type": "markdown",
      "metadata": {
        "id": "yhiSpyQLeXU4",
        "colab_type": "text"
      },
      "source": [
        "#4. Reading from CSVs#"
      ]
    },
    {
      "cell_type": "code",
      "metadata": {
        "id": "eso89iL9eEyd",
        "colab_type": "code",
        "outputId": "3f1ef93d-4267-4843-b86c-f834ec58c1f6",
        "colab": {
          "base_uri": "https://localhost:8080/",
          "height": 371
        }
      },
      "source": [
        "training_set = np.genfromtxt('train.csv',delimiter=',')[1:]\n",
        "print(training_set.shape)\n",
        "y_train=training_set[:,0]\n",
        "x_train\\\n",
        "    =training_set[:, 1:].reshape((training_set.shape[0], 28, 28, 1)).astype('float32')/255.0\n",
        "print(\"x_train.shape\",x_train.shape)\n",
        "print(\"y_train.shape\",y_train.shape)\n",
        "\n",
        "\n",
        "testing_set = np.genfromtxt('test.csv',delimiter=',')[1:].astype('float32')\n",
        "print(testing_set.shape)\n",
        "# y_test=testing_set[:,0]\n",
        "x_test=testing_set[:,:].reshape((testing_set.shape[0],28, 28, 1)).astype('float32')/255.0\n",
        "print(\"x_test.shape\",x_test.shape)\n",
        "# print(y_test.shape)\n",
        "\n",
        "plt.gray()\n",
        "\n",
        "plt.title(str(y_train[0]) + ' shown')\n",
        "sample_plot = plt.imshow(x_train[0][:, :, 0])\n",
        "# print(y_train[0],'shown')"
      ],
      "execution_count": 0,
      "outputs": [
        {
          "output_type": "stream",
          "text": [
            "(42000, 785)\n",
            "x_train.shape (42000, 28, 28, 1)\n",
            "y_train.shape (42000,)\n",
            "(28000, 784)\n",
            "x_test.shape (28000, 28, 28, 1)\n"
          ],
          "name": "stdout"
        },
        {
          "output_type": "display_data",
          "data": {
            "image/png": "[encoded data removed]",
            "text/plain": [
              "<Figure size 432x288 with 1 Axes>"
            ]
          },
          "metadata": {
            "tags": []
          }
        }
      ]
    },
    {
      "cell_type": "markdown",
      "metadata": {
        "id": "EbMfBYKVnyO0",
        "colab_type": "text"
      },
      "source": [
        "#5. Build the MNIST CNN#"
      ]
    },
    {
      "cell_type": "code",
      "metadata": {
        "id": "OPf213ENn6P4",
        "colab_type": "code",
        "outputId": "32cc56e7-a22a-4c84-9761-f68da23c1ba2",
        "colab": {
          "base_uri": "https://localhost:8080/",
          "height": 575
        }
      },
      "source": [
        "model =tf.keras.models.Sequential([\n",
        "    Conv2D(32, kernel_size=(3, 3), activation='relu', input_shape=(28, 28,1)),\n",
        "    # Note: the first layer has to be given the input shape. After that is very automatic.\n",
        "    Conv2D(32, kernel_size=(3, 3), activation='relu'),\n",
        "    MaxPooling2D(pool_size=(2,2)),\n",
        "    Dropout(.2),\n",
        "    \n",
        "    Conv2D(64, (3, 3), activation='relu'),\n",
        "    Conv2D(64, (3, 3), activation='relu'),\n",
        "    MaxPooling2D(pool_size=(2,2)),\n",
        "    Dropout(.2),\n",
        "    \n",
        "    Flatten(),\n",
        "    Dense(128, activation='relu'),\n",
        "    Dropout(.25),\n",
        "    Dense(10, activation='softmax')    \n",
        "])\n",
        "model.summary()"
      ],
      "execution_count": 0,
      "outputs": [
        {
          "output_type": "stream",
          "text": [
            "_________________________________________________________________\n",
            "Layer (type)                 Output Shape              Param #   \n",
            "=================================================================\n",
            "conv2d_12 (Conv2D)           (None, 26, 26, 32)        320       \n",
            "_________________________________________________________________\n",
            "conv2d_13 (Conv2D)           (None, 24, 24, 32)        9248      \n",
            "_________________________________________________________________\n",
            "max_pooling2d_6 (MaxPooling2 (None, 12, 12, 32)        0         \n",
            "_________________________________________________________________\n",
            "dropout_9 (Dropout)          (None, 12, 12, 32)        0         \n",
            "_________________________________________________________________\n",
            "conv2d_14 (Conv2D)           (None, 10, 10, 64)        18496     \n",
            "_________________________________________________________________\n",
            "conv2d_15 (Conv2D)           (None, 8, 8, 64)          36928     \n",
            "_________________________________________________________________\n",
            "max_pooling2d_7 (MaxPooling2 (None, 4, 4, 64)          0         \n",
            "_________________________________________________________________\n",
            "dropout_10 (Dropout)         (None, 4, 4, 64)          0         \n",
            "_________________________________________________________________\n",
            "flatten_3 (Flatten)          (None, 1024)              0         \n",
            "_________________________________________________________________\n",
            "dense_6 (Dense)              (None, 128)               131200    \n",
            "_________________________________________________________________\n",
            "dropout_11 (Dropout)         (None, 128)               0         \n",
            "_________________________________________________________________\n",
            "dense_7 (Dense)              (None, 10)                1290      \n",
            "=================================================================\n",
            "Total params: 197,482\n",
            "Trainable params: 197,482\n",
            "Non-trainable params: 0\n",
            "_________________________________________________________________\n"
          ],
          "name": "stdout"
        }
      ]
    },
    {
      "cell_type": "markdown",
      "metadata": {
        "id": "6_LQ1JvYqHIg",
        "colab_type": "text"
      },
      "source": [
        "#6.Keras model to TPU: conversion#"
      ]
    },
    {
      "cell_type": "code",
      "metadata": {
        "id": "1cPpaEP0qSQE",
        "colab_type": "code",
        "outputId": "0ca3a838-794a-48c2-cc00-d605eea37bfd",
        "colab": {
          "base_uri": "https://localhost:8080/",
          "height": 343
        }
      },
      "source": [
        "tpu_model = tf.contrib.tpu.keras_to_tpu_model(\n",
        "    model,\n",
        "    strategy=tf.contrib.tpu.TPUDistributionStrategy(\n",
        "        tf.contrib.cluster_resolver.TPUClusterResolver(tpu=TPU_addr)\n",
        "    )\n",
        ")\n",
        "tpu_model.compile(\n",
        "    optimizer = tf.train.AdamOptimizer(learning_rate=1e-3),\n",
        "    loss=tf.keras.losses.sparse_categorical_crossentropy,\n",
        "    metrics=['sparse_categorical_accuracy']\n",
        ")\n",
        "\n",
        "\n",
        "# generator: A generator or an instance of Sequence (keras.utils.Sequence) object in order to avoid duplicate data when using multiprocessing. The output of the generator must be either\n",
        "\n",
        "# a tuple (inputs, targets)\n",
        "# a tuple (inputs, targets, sample_weights).\n",
        "def train_gen(batch_size):\n",
        "    # the reason for using the generator function is because it does not allocate new function stacks, thus efficient\n",
        "    while True:\n",
        "        # First, we choose the first random starting index for the random batch\n",
        "        offset = np.random.randint(0, x_train.shape[0] - batch_size)\n",
        "        yield x_train[offset:offset+batch_size], y_train[offset:offset+batch_size]\n"
      ],
      "execution_count": 0,
      "outputs": [
        {
          "output_type": "stream",
          "text": [
            "INFO:tensorflow:Querying Tensorflow master (grpc://10.116.250.106:8470) for TPU system metadata.\n",
            "INFO:tensorflow:Found TPU system:\n",
            "INFO:tensorflow:*** Num TPU Cores: 8\n",
            "INFO:tensorflow:*** Num TPU Workers: 1\n",
            "INFO:tensorflow:*** Num TPU Cores Per Worker: 8\n",
            "INFO:tensorflow:*** Available Device: _DeviceAttributes(/job:worker/replica:0/task:0/device:CPU:0, CPU, -1, 4767761637097841020)\n",
            "INFO:tensorflow:*** Available Device: _DeviceAttributes(/job:worker/replica:0/task:0/device:XLA_CPU:0, XLA_CPU, 17179869184, 15320465834878527478)\n",
            "INFO:tensorflow:*** Available Device: _DeviceAttributes(/job:worker/replica:0/task:0/device:TPU:0, TPU, 17179869184, 6255467983292631391)\n",
            "INFO:tensorflow:*** Available Device: _DeviceAttributes(/job:worker/replica:0/task:0/device:TPU:1, TPU, 17179869184, 1977746659073531231)\n",
            "INFO:tensorflow:*** Available Device: _DeviceAttributes(/job:worker/replica:0/task:0/device:TPU:2, TPU, 17179869184, 12074703543390021334)\n",
            "INFO:tensorflow:*** Available Device: _DeviceAttributes(/job:worker/replica:0/task:0/device:TPU:3, TPU, 17179869184, 12298909711486255561)\n",
            "INFO:tensorflow:*** Available Device: _DeviceAttributes(/job:worker/replica:0/task:0/device:TPU:4, TPU, 17179869184, 5376996096278254682)\n",
            "INFO:tensorflow:*** Available Device: _DeviceAttributes(/job:worker/replica:0/task:0/device:TPU:5, TPU, 17179869184, 6975544890396513222)\n",
            "INFO:tensorflow:*** Available Device: _DeviceAttributes(/job:worker/replica:0/task:0/device:TPU:6, TPU, 17179869184, 1475392729216552068)\n",
            "INFO:tensorflow:*** Available Device: _DeviceAttributes(/job:worker/replica:0/task:0/device:TPU:7, TPU, 17179869184, 15561394701472315570)\n",
            "INFO:tensorflow:*** Available Device: _DeviceAttributes(/job:worker/replica:0/task:0/device:TPU_SYSTEM:0, TPU_SYSTEM, 17179869184, 3920087705855482698)\n",
            "WARNING:tensorflow:tpu_model (from tensorflow.contrib.tpu.python.tpu.keras_support) is experimental and may change or be removed at any time, and without warning.\n"
          ],
          "name": "stdout"
        }
      ]
    },
    {
      "cell_type": "markdown",
      "metadata": {
        "id": "xeoqSSIFs0Jr",
        "colab_type": "text"
      },
      "source": [
        "#7. Train the model and time it#"
      ]
    },
    {
      "cell_type": "code",
      "metadata": {
        "id": "sU_twFp5s_pc",
        "colab_type": "code",
        "outputId": "41e428ab-d400-485e-bdf7-2e3ff3f6b237",
        "colab": {
          "base_uri": "https://localhost:8080/",
          "height": 1133
        }
      },
      "source": [
        "%%time\n",
        "history = tpu_model.fit_generator(\n",
        "    train_gen(128),\n",
        "    epochs=30,\n",
        "    steps_per_epoch=100\n",
        ")"
      ],
      "execution_count": 0,
      "outputs": [
        {
          "output_type": "stream",
          "text": [
            "Epoch 1/30\n",
            "100/100 [==============================] - 3s 35ms/step - loss: 0.0224 - sparse_categorical_accuracy: 0.9930\n",
            "Epoch 2/30\n",
            "100/100 [==============================] - 3s 34ms/step - loss: 0.0206 - sparse_categorical_accuracy: 0.9940\n",
            "Epoch 3/30\n",
            "100/100 [==============================] - 3s 34ms/step - loss: 0.0186 - sparse_categorical_accuracy: 0.9940\n",
            "Epoch 4/30\n",
            "100/100 [==============================] - 3s 35ms/step - loss: 0.0203 - sparse_categorical_accuracy: 0.9930\n",
            "Epoch 5/30\n",
            "100/100 [==============================] - 3s 35ms/step - loss: 0.0180 - sparse_categorical_accuracy: 0.9937\n",
            "Epoch 6/30\n",
            "100/100 [==============================] - 4s 36ms/step - loss: 0.0191 - sparse_categorical_accuracy: 0.9938\n",
            "Epoch 7/30\n",
            "100/100 [==============================] - 4s 38ms/step - loss: 0.0159 - sparse_categorical_accuracy: 0.9953\n",
            "Epoch 8/30\n",
            "100/100 [==============================] - 4s 36ms/step - loss: 0.0156 - sparse_categorical_accuracy: 0.9949\n",
            "Epoch 9/30\n",
            "100/100 [==============================] - 3s 34ms/step - loss: 0.0172 - sparse_categorical_accuracy: 0.9945\n",
            "Epoch 10/30\n",
            "100/100 [==============================] - 3s 34ms/step - loss: 0.0166 - sparse_categorical_accuracy: 0.9948\n",
            "Epoch 11/30\n",
            "100/100 [==============================] - 4s 36ms/step - loss: 0.0166 - sparse_categorical_accuracy: 0.9951\n",
            "Epoch 12/30\n",
            "100/100 [==============================] - 3s 35ms/step - loss: 0.0142 - sparse_categorical_accuracy: 0.9953\n",
            "Epoch 13/30\n",
            "100/100 [==============================] - 4s 35ms/step - loss: 0.0146 - sparse_categorical_accuracy: 0.9952\n",
            "Epoch 14/30\n",
            "100/100 [==============================] - 3s 35ms/step - loss: 0.0140 - sparse_categorical_accuracy: 0.9955\n",
            "Epoch 15/30\n",
            "100/100 [==============================] - 3s 34ms/step - loss: 0.0164 - sparse_categorical_accuracy: 0.9949\n",
            "Epoch 16/30\n",
            "100/100 [==============================] - 3s 34ms/step - loss: 0.0162 - sparse_categorical_accuracy: 0.9951\n",
            "Epoch 17/30\n",
            "100/100 [==============================] - 3s 35ms/step - loss: 0.0151 - sparse_categorical_accuracy: 0.9952\n",
            "Epoch 18/30\n",
            "100/100 [==============================] - 4s 35ms/step - loss: 0.0116 - sparse_categorical_accuracy: 0.9955\n",
            "Epoch 19/30\n",
            "100/100 [==============================] - 4s 35ms/step - loss: 0.0156 - sparse_categorical_accuracy: 0.9949\n",
            "Epoch 20/30\n",
            "100/100 [==============================] - 4s 37ms/step - loss: 0.0136 - sparse_categorical_accuracy: 0.9966\n",
            "Epoch 21/30\n",
            "100/100 [==============================] - 4s 37ms/step - loss: 0.0118 - sparse_categorical_accuracy: 0.9957\n",
            "Epoch 22/30\n",
            "100/100 [==============================] - 4s 37ms/step - loss: 0.0156 - sparse_categorical_accuracy: 0.9958\n",
            "Epoch 23/30\n",
            "100/100 [==============================] - 3s 35ms/step - loss: 0.0132 - sparse_categorical_accuracy: 0.9952\n",
            "Epoch 24/30\n",
            "100/100 [==============================] - 3s 34ms/step - loss: 0.0092 - sparse_categorical_accuracy: 0.9970\n",
            "Epoch 25/30\n",
            "100/100 [==============================] - 3s 35ms/step - loss: 0.0080 - sparse_categorical_accuracy: 0.9970\n",
            "Epoch 26/30\n",
            "100/100 [==============================] - 3s 35ms/step - loss: 0.0117 - sparse_categorical_accuracy: 0.9955\n",
            "Epoch 27/30\n",
            "100/100 [==============================] - 3s 35ms/step - loss: 0.0113 - sparse_categorical_accuracy: 0.9963\n",
            "Epoch 28/30\n",
            "100/100 [==============================] - 4s 36ms/step - loss: 0.0173 - sparse_categorical_accuracy: 0.9952\n",
            "Epoch 29/30\n",
            "100/100 [==============================] - 4s 36ms/step - loss: 0.0133 - sparse_categorical_accuracy: 0.9959\n",
            "Epoch 30/30\n",
            "100/100 [==============================] - 4s 36ms/step - loss: 0.0106 - sparse_categorical_accuracy: 0.9968\n",
            "CPU times: user 25.5 s, sys: 3.7 s, total: 29.2 s\n",
            "Wall time: 1min 45s\n"
          ],
          "name": "stdout"
        }
      ]
    },
    {
      "cell_type": "code",
      "metadata": {
        "id": "8fkuR9Gatqi2",
        "colab_type": "code",
        "outputId": "b8d20957-af55-4d2d-d807-d4d732173319",
        "colab": {
          "base_uri": "https://localhost:8080/",
          "height": 35
        }
      },
      "source": [
        "type(tpu_model)"
      ],
      "execution_count": 0,
      "outputs": [
        {
          "output_type": "execute_result",
          "data": {
            "text/plain": [
              "tensorflow.contrib.tpu.python.tpu.keras_support.KerasTPUModel"
            ]
          },
          "metadata": {
            "tags": []
          },
          "execution_count": 40
        }
      ]
    },
    {
      "cell_type": "code",
      "metadata": {
        "id": "F3TqS2Q9FqtR",
        "colab_type": "code",
        "outputId": "d212a5c6-4bc6-4fdb-8c7c-b4654e88e76c",
        "colab": {
          "base_uri": "https://localhost:8080/",
          "height": 55
        }
      },
      "source": [
        "print(history.history)"
      ],
      "execution_count": 0,
      "outputs": [
        {
          "output_type": "stream",
          "text": [
            "{'loss': [0.022401340932119637, 0.020557768273283726, 0.018625712756766007, 0.020304385520284997, 0.01798742535698693, 0.01913136568677146, 0.01588189030473586, 0.015599676187266596, 0.017249223733961115, 0.016618158550118098, 0.016603410140378402, 0.014184477415037691, 0.014595625210931757, 0.014047020934449393, 0.01642313754768111, 0.01618138388643274, 0.015114746422623284, 0.011609993946622125, 0.015606227044627304, 0.013595086029235972, 0.011831375516485422, 0.01560095476132119, 0.013226754136703676, 0.009191015539108775, 0.007951931086063268, 0.011741162908365368, 0.011258222696196753, 0.017333341928897426, 0.013284748433216009, 0.0105923279558192], 'sparse_categorical_accuracy': [0.9930469, 0.99398434, 0.99398434, 0.9930469, 0.99367183, 0.9938281, 0.99531245, 0.99492186, 0.9945312, 0.9947656, 0.9950781, 0.99531245, 0.9951562, 0.9955469, 0.99492186, 0.9950781, 0.9952344, 0.9955469, 0.99492186, 0.9966406, 0.9957031, 0.99578124, 0.9952344, 0.9969531, 0.9970312, 0.99546874, 0.9963281, 0.9952344, 0.9958593, 0.99679685]}\n"
          ],
          "name": "stdout"
        }
      ]
    },
    {
      "cell_type": "code",
      "metadata": {
        "id": "MT7NM43MFjL5",
        "colab_type": "code",
        "colab": {}
      },
      "source": [
        "# def plot_hist(train_loss, train_acc, test_loss, test_acc):\n",
        "#   fig, (ax1, ax2) = plt.subplots(1, 2, figsize=(14, 4))\n",
        "  \n",
        "#   ax1.plot(train_loss, label='train loss')\n",
        "#   ax1.plot(test_loss, label='test loss')\n",
        "#   ax1.set_xlabel('Epochs')\n",
        "#   ax1.set_ylabel('Loss')\n",
        "#   ax1.set_title('Train & Test Loss')\n",
        "#   ax1.legend()\n",
        "  \n",
        "  \n",
        "#   ax2.plot(train_acc, label='train acc')\n",
        "#   ax2.plot(test_acc, label='test acc')\n",
        "#   ax2.set_xlabel('Epochs')\n",
        "#   ax2.set_ylabel('Accuracy')\n",
        "#   ax2.set_title('Train & Test Accuracy')\n",
        "#   ax2.legend()\n",
        "    \n",
        "#   plt.show()\n",
        "\n",
        "\n",
        "\n",
        "def plot_hist(train_loss):\n",
        "  fig, (ax1) = plt.subplots(1, 1, figsize=(4, 4))\n",
        "  \n",
        "  ax1.plot(train_loss, label='train loss')\n",
        "  ax1.set_xlabel('Epochs')\n",
        "  ax1.set_ylabel('Loss')\n",
        "  ax1.legend()\n",
        "    \n",
        "  plt.show()\n"
      ],
      "execution_count": 0,
      "outputs": []
    },
    {
      "cell_type": "code",
      "metadata": {
        "id": "ls1jZTquFp2o",
        "colab_type": "code",
        "outputId": "75634b9f-6bae-4ce8-ff7d-7d3f61be0222",
        "colab": {
          "base_uri": "https://localhost:8080/",
          "height": 283
        }
      },
      "source": [
        "plot_hist(history.history['loss'])"
      ],
      "execution_count": 0,
      "outputs": [
        {
          "output_type": "display_data",
          "data": {
            "image/png": "[encoded data removed]",
            "text/plain": [
              "<Figure size 288x288 with 1 Axes>"
            ]
          },
          "metadata": {
            "tags": []
          }
        }
      ]
    },
    {
      "cell_type": "markdown",
      "metadata": {
        "id": "vkGirdLOvA2d",
        "colab_type": "text"
      },
      "source": [
        "#8.Predict the test data#"
      ]
    },
    {
      "cell_type": "code",
      "metadata": {
        "id": "Ng1CBQ5WvAWG",
        "colab_type": "code",
        "outputId": "e9e9af8e-9dfb-4cb8-b476-594cdcd87431",
        "colab": {
          "base_uri": "https://localhost:8080/",
          "height": 145
        }
      },
      "source": [
        "predicted_prob = tpu_model.predict(x_test)\n",
        "predicted_classes = np.argmax(predicted_prob, axis=1)\n",
        "print(predicted_classes)"
      ],
      "execution_count": 0,
      "outputs": [
        {
          "output_type": "stream",
          "text": [
            "INFO:tensorflow:New input shapes; (re-)compiling: mode=infer (# of cores 8), [TensorSpec(shape=(4, 28, 28, 1), dtype=tf.float32, name='conv2d_8_input_10')]\n",
            "INFO:tensorflow:Overriding default placeholder.\n",
            "INFO:tensorflow:Remapping placeholder for conv2d_8_input\n",
            "INFO:tensorflow:Started compiling\n",
            "INFO:tensorflow:Finished compiling. Time elapsed: 2.58233904838562 secs\n",
            "[2 0 9 ... 3 9 2]\n"
          ],
          "name": "stdout"
        }
      ]
    },
    {
      "cell_type": "code",
      "metadata": {
        "id": "8l6WsviGxjGX",
        "colab_type": "code",
        "outputId": "f9dfa93c-3808-4e72-9b6a-594b7ec46686",
        "colab": {
          "base_uri": "https://localhost:8080/",
          "height": 2675
        }
      },
      "source": [
        "type(predicted_classes)\n",
        "\n",
        "print(np.random.randint(predicted_classes.shape[0], size=10).tolist())\n",
        "import time\n",
        "for i in np.random.randint(predicted_classes.shape[0], size=10).tolist():\n",
        "    plt.title(str(predicted_classes[i]) + ' shown')\n",
        "    sample_plot = plt.imshow(x_test[i][:, :, 0])\n",
        "#     time.sleep(0.01)\n",
        "    plt.show()\n",
        "\n"
      ],
      "execution_count": 0,
      "outputs": [
        {
          "output_type": "stream",
          "text": [
            "[6689, 10878, 9449, 12920, 2646, 11483, 1439, 12121, 14056, 19932]\n"
          ],
          "name": "stdout"
        },
        {
          "output_type": "display_data",
          "data": {
            "image/png": "[encoded data removed]",
            "text/plain": [
              "<Figure size 432x288 with 1 Axes>"
            ]
          },
          "metadata": {
            "tags": []
          }
        },
        {
          "output_type": "display_data",
          "data": {
            "image/png": "[encoded data removed]",
            "text/plain": [
              "<Figure size 432x288 with 1 Axes>"
            ]
          },
          "metadata": {
            "tags": []
          }
        },
        {
          "output_type": "display_data",
          "data": {
            "image/png": "[encoded data removed]",
            "text/plain": [
              "<Figure size 432x288 with 1 Axes>"
            ]
          },
          "metadata": {
            "tags": []
          }
        },
        {
          "output_type": "display_data",
          "data": {
            "image/png": "[encoded data removed]",
            "text/plain": [
              "<Figure size 432x288 with 1 Axes>"
            ]
          },
          "metadata": {
            "tags": []
          }
        },
        {
          "output_type": "display_data",
          "data": {
            "image/png": "[encoded data removed]",
            "text/plain": [
              "<Figure size 432x288 with 1 Axes>"
            ]
          },
          "metadata": {
            "tags": []
          }
        },
        {
          "output_type": "display_data",
          "data": {
            "image/png": "[encoded data removed]",
            "text/plain": [
              "<Figure size 432x288 with 1 Axes>"
            ]
          },
          "metadata": {
            "tags": []
          }
        },
        {
          "output_type": "display_data",
          "data": {
            "image/png": "[encoded data removed]",
            "text/plain": [
              "<Figure size 432x288 with 1 Axes>"
            ]
          },
          "metadata": {
            "tags": []
          }
        },
        {
          "output_type": "display_data",
          "data": {
            "image/png": "[encoded data removed]",
            "text/plain": [
              "<Figure size 432x288 with 1 Axes>"
            ]
          },
          "metadata": {
            "tags": []
          }
        },
        {
          "output_type": "display_data",
          "data": {
            "image/png": "[encoded data removed]",
            "text/plain": [
              "<Figure size 432x288 with 1 Axes>"
            ]
          },
          "metadata": {
            "tags": []
          }
        },
        {
          "output_type": "display_data",
          "data": {
            "image/png": "[encoded data removed]",
            "text/plain": [
              "<Figure size 432x288 with 1 Axes>"
            ]
          },
          "metadata": {
            "tags": []
          }
        }
      ]
    },
    {
      "cell_type": "code",
      "metadata": {
        "id": "itJGuz1c0Ud2",
        "colab_type": "code",
        "outputId": "ae08115c-6ac1-4615-a564-936cbd315159",
        "colab": {
          "base_uri": "https://localhost:8080/",
          "height": 1295
        }
      },
      "source": [
        "indices = np.array(range(1,predicted_classes.shape[0] + 1)).reshape(predicted_classes.shape[0], 1)\n",
        "v_pred = predicted_classes.reshape(predicted_classes.shape[0], 1)\n",
        "print(v_pred)\n",
        "result_df = pd.DataFrame(np.hstack((indices, v_pred)), columns=['ImageId', 'Label'])\n",
        "print(result_df)"
      ],
      "execution_count": 0,
      "outputs": [
        {
          "output_type": "stream",
          "text": [
            "[[2]\n",
            " [0]\n",
            " [9]\n",
            " ...\n",
            " [3]\n",
            " [9]\n",
            " [2]]\n",
            "       ImageId  Label\n",
            "0            1      2\n",
            "1            2      0\n",
            "2            3      9\n",
            "3            4      9\n",
            "4            5      3\n",
            "5            6      7\n",
            "6            7      0\n",
            "7            8      3\n",
            "8            9      0\n",
            "9           10      3\n",
            "10          11      5\n",
            "11          12      7\n",
            "12          13      4\n",
            "13          14      0\n",
            "14          15      4\n",
            "15          16      3\n",
            "16          17      3\n",
            "17          18      1\n",
            "18          19      9\n",
            "19          20      0\n",
            "20          21      9\n",
            "21          22      1\n",
            "22          23      1\n",
            "23          24      5\n",
            "24          25      7\n",
            "25          26      4\n",
            "26          27      2\n",
            "27          28      7\n",
            "28          29      4\n",
            "29          30      7\n",
            "...        ...    ...\n",
            "27970    27971      5\n",
            "27971    27972      0\n",
            "27972    27973      4\n",
            "27973    27974      8\n",
            "27974    27975      0\n",
            "27975    27976      3\n",
            "27976    27977      6\n",
            "27977    27978      0\n",
            "27978    27979      1\n",
            "27979    27980      9\n",
            "27980    27981      3\n",
            "27981    27982      1\n",
            "27982    27983      1\n",
            "27983    27984      0\n",
            "27984    27985      4\n",
            "27985    27986      5\n",
            "27986    27987      2\n",
            "27987    27988      2\n",
            "27988    27989      9\n",
            "27989    27990      6\n",
            "27990    27991      7\n",
            "27991    27992      6\n",
            "27992    27993      5\n",
            "27993    27994      9\n",
            "27994    27995      7\n",
            "27995    27996      9\n",
            "27996    27997      7\n",
            "27997    27998      3\n",
            "27998    27999      9\n",
            "27999    28000      2\n",
            "\n",
            "[28000 rows x 2 columns]\n"
          ],
          "name": "stdout"
        }
      ]
    },
    {
      "cell_type": "code",
      "metadata": {
        "id": "IyZ6RZ6p4QyD",
        "colab_type": "code",
        "colab": {}
      },
      "source": [
        "result_df.to_csv('submission.csv', encoding='utf-8', index=False)"
      ],
      "execution_count": 0,
      "outputs": []
    },
    {
      "cell_type": "code",
      "metadata": {
        "id": "GjHTTeSn4mPp",
        "colab_type": "code",
        "outputId": "295d3629-4221-4603-f5a0-f5de3c431931",
        "colab": {
          "base_uri": "https://localhost:8080/",
          "height": 35
        }
      },
      "source": [
        "!ls"
      ],
      "execution_count": 0,
      "outputs": [
        {
          "output_type": "stream",
          "text": [
            "MNIST_do.ipynb\tsample_submission.csv  submission.csv  test.csv  train.csv\n"
          ],
          "name": "stdout"
        }
      ]
    },
    {
      "cell_type": "markdown",
      "metadata": {
        "id": "8HgfOhGyGo_Y",
        "colab_type": "text"
      },
      "source": [
        "# EXTRA: data augmentation#"
      ]
    },
    {
      "cell_type": "code",
      "metadata": {
        "id": "MiosIOPfGs7T",
        "colab_type": "code",
        "colab": {}
      },
      "source": [
        "# CREATE MORE IMAGES VIA DATA AUGMENTATION\n",
        "datagen = tf.keras.preprocessing.image.ImageDataGenerator(\n",
        "        rotation_range=10,  \n",
        "        zoom_range = 0.10,  \n",
        "        width_shift_range=0.1, \n",
        "        height_shift_range=0.1)"
      ],
      "execution_count": 0,
      "outputs": []
    },
    {
      "cell_type": "code",
      "metadata": {
        "id": "O8UgQnhwIGHk",
        "colab_type": "code",
        "outputId": "5d74bbee-c86a-44c3-8404-9688d818fa0c",
        "colab": {
          "base_uri": "https://localhost:8080/",
          "height": 1458
        }
      },
      "source": [
        "#Train again, with the IDG function!\n",
        "%%time\n",
        "history = tpu_model.fit_generator(\n",
        "    datagen.flow(x_train,y_train, batch_size=128),\n",
        "    epochs=20,\n",
        "    steps_per_epoch=x_train.shape[0]//128\n",
        ")"
      ],
      "execution_count": 0,
      "outputs": [
        {
          "output_type": "stream",
          "text": [
            "Epoch 1/45\n",
            "329/329 [==============================] - 12s 37ms/step - loss: 0.0343 - sparse_categorical_accuracy: 0.9901\n",
            "Epoch 2/45\n",
            "329/329 [==============================] - 12s 37ms/step - loss: 0.0298 - sparse_categorical_accuracy: 0.9904\n",
            "Epoch 3/45\n",
            "329/329 [==============================] - 12s 37ms/step - loss: 0.0265 - sparse_categorical_accuracy: 0.9916\n",
            "Epoch 4/45\n",
            "329/329 [==============================] - 12s 37ms/step - loss: 0.0292 - sparse_categorical_accuracy: 0.9905\n",
            "Epoch 5/45\n",
            "329/329 [==============================] - 12s 37ms/step - loss: 0.0301 - sparse_categorical_accuracy: 0.9911\n",
            "Epoch 6/45\n",
            "329/329 [==============================] - 12s 37ms/step - loss: 0.0273 - sparse_categorical_accuracy: 0.9918\n",
            "Epoch 7/45\n",
            "329/329 [==============================] - 12s 37ms/step - loss: 0.0274 - sparse_categorical_accuracy: 0.9913\n",
            "Epoch 8/45\n",
            "329/329 [==============================] - 13s 38ms/step - loss: 0.0270 - sparse_categorical_accuracy: 0.9921\n",
            "Epoch 9/45\n",
            "329/329 [==============================] - 12s 38ms/step - loss: 0.0267 - sparse_categorical_accuracy: 0.9919\n",
            "Epoch 10/45\n",
            "329/329 [==============================] - 13s 38ms/step - loss: 0.0254 - sparse_categorical_accuracy: 0.9927\n",
            "Epoch 11/45\n",
            "329/329 [==============================] - 12s 37ms/step - loss: 0.0263 - sparse_categorical_accuracy: 0.9924\n",
            "Epoch 12/45\n",
            "329/329 [==============================] - 12s 37ms/step - loss: 0.0262 - sparse_categorical_accuracy: 0.9924\n",
            "Epoch 13/45\n",
            "329/329 [==============================] - 12s 37ms/step - loss: 0.0248 - sparse_categorical_accuracy: 0.9926\n",
            "Epoch 14/45\n",
            "329/329 [==============================] - 12s 38ms/step - loss: 0.0234 - sparse_categorical_accuracy: 0.9927\n",
            "Epoch 15/45\n",
            "329/329 [==============================] - 12s 37ms/step - loss: 0.0259 - sparse_categorical_accuracy: 0.9925\n",
            "Epoch 16/45\n",
            "329/329 [==============================] - 12s 36ms/step - loss: 0.0224 - sparse_categorical_accuracy: 0.9930\n",
            "Epoch 17/45\n",
            "329/329 [==============================] - 12s 36ms/step - loss: 0.0233 - sparse_categorical_accuracy: 0.9930\n",
            "Epoch 18/45\n",
            "329/329 [==============================] - 12s 36ms/step - loss: 0.0216 - sparse_categorical_accuracy: 0.9932\n",
            "Epoch 19/45\n",
            "329/329 [==============================] - 12s 36ms/step - loss: 0.0217 - sparse_categorical_accuracy: 0.9938\n",
            "Epoch 20/45\n",
            "329/329 [==============================] - 12s 37ms/step - loss: 0.0222 - sparse_categorical_accuracy: 0.9930\n",
            "Epoch 21/45\n",
            "329/329 [==============================] - 12s 36ms/step - loss: 0.0229 - sparse_categorical_accuracy: 0.9931\n",
            "Epoch 22/45\n",
            "329/329 [==============================] - 12s 37ms/step - loss: 0.0214 - sparse_categorical_accuracy: 0.9932\n",
            "Epoch 23/45\n",
            "329/329 [==============================] - 12s 36ms/step - loss: 0.0214 - sparse_categorical_accuracy: 0.9940\n",
            "Epoch 24/45\n",
            "329/329 [==============================] - 12s 36ms/step - loss: 0.0220 - sparse_categorical_accuracy: 0.9926\n",
            "Epoch 25/45\n",
            "329/329 [==============================] - 12s 36ms/step - loss: 0.0222 - sparse_categorical_accuracy: 0.9934\n",
            "Epoch 26/45\n",
            "329/329 [==============================] - 12s 37ms/step - loss: 0.0221 - sparse_categorical_accuracy: 0.9935\n",
            "Epoch 27/45\n",
            "329/329 [==============================] - 12s 37ms/step - loss: 0.0216 - sparse_categorical_accuracy: 0.9934\n",
            "Epoch 28/45\n",
            "329/329 [==============================] - 12s 37ms/step - loss: 0.0208 - sparse_categorical_accuracy: 0.9939\n",
            "Epoch 29/45\n",
            "237/329 [====================>.........] - ETA: 3s - loss: 0.0201 - sparse_categorical_accuracy: 0.9938"
          ],
          "name": "stdout"
        },
        {
          "output_type": "error",
          "ename": "KeyboardInterrupt",
          "evalue": "ignored",
          "traceback": [
            "\u001b[0;31m---------------------------------------------------------------------------\u001b[0m",
            "\u001b[0;31mKeyboardInterrupt\u001b[0m                         Traceback (most recent call last)",
            "\u001b[0;32m<ipython-input-51-a2683d4b8144>\u001b[0m in \u001b[0;36m<module>\u001b[0;34m()\u001b[0m\n\u001b[0;32m----> 1\u001b[0;31m \u001b[0mget_ipython\u001b[0m\u001b[0;34m(\u001b[0m\u001b[0;34m)\u001b[0m\u001b[0;34m.\u001b[0m\u001b[0mrun_cell_magic\u001b[0m\u001b[0;34m(\u001b[0m\u001b[0;34m'time'\u001b[0m\u001b[0;34m,\u001b[0m \u001b[0;34m''\u001b[0m\u001b[0;34m,\u001b[0m \u001b[0;34m'history = tpu_model.fit_generator(\\n    datagen.flow(x_train,y_train, batch_size=128),\\n    epochs=45,\\n    steps_per_epoch=x_train.shape[0]//128\\n)'\u001b[0m\u001b[0;34m)\u001b[0m\u001b[0;34m\u001b[0m\u001b[0;34m\u001b[0m\u001b[0m\n\u001b[0m",
            "\u001b[0;32m/usr/local/lib/python3.6/dist-packages/IPython/core/interactiveshell.py\u001b[0m in \u001b[0;36mrun_cell_magic\u001b[0;34m(self, magic_name, line, cell)\u001b[0m\n\u001b[1;32m   2115\u001b[0m             \u001b[0mmagic_arg_s\u001b[0m \u001b[0;34m=\u001b[0m \u001b[0mself\u001b[0m\u001b[0;34m.\u001b[0m\u001b[0mvar_expand\u001b[0m\u001b[0;34m(\u001b[0m\u001b[0mline\u001b[0m\u001b[0;34m,\u001b[0m \u001b[0mstack_depth\u001b[0m\u001b[0;34m)\u001b[0m\u001b[0;34m\u001b[0m\u001b[0;34m\u001b[0m\u001b[0m\n\u001b[1;32m   2116\u001b[0m             \u001b[0;32mwith\u001b[0m \u001b[0mself\u001b[0m\u001b[0;34m.\u001b[0m\u001b[0mbuiltin_trap\u001b[0m\u001b[0;34m:\u001b[0m\u001b[0;34m\u001b[0m\u001b[0;34m\u001b[0m\u001b[0m\n\u001b[0;32m-> 2117\u001b[0;31m                 \u001b[0mresult\u001b[0m \u001b[0;34m=\u001b[0m \u001b[0mfn\u001b[0m\u001b[0;34m(\u001b[0m\u001b[0mmagic_arg_s\u001b[0m\u001b[0;34m,\u001b[0m \u001b[0mcell\u001b[0m\u001b[0;34m)\u001b[0m\u001b[0;34m\u001b[0m\u001b[0;34m\u001b[0m\u001b[0m\n\u001b[0m\u001b[1;32m   2118\u001b[0m             \u001b[0;32mreturn\u001b[0m \u001b[0mresult\u001b[0m\u001b[0;34m\u001b[0m\u001b[0;34m\u001b[0m\u001b[0m\n\u001b[1;32m   2119\u001b[0m \u001b[0;34m\u001b[0m\u001b[0m\n",
            "\u001b[0;32m</usr/local/lib/python3.6/dist-packages/decorator.py:decorator-gen-60>\u001b[0m in \u001b[0;36mtime\u001b[0;34m(self, line, cell, local_ns)\u001b[0m\n",
            "\u001b[0;32m/usr/local/lib/python3.6/dist-packages/IPython/core/magic.py\u001b[0m in \u001b[0;36m<lambda>\u001b[0;34m(f, *a, **k)\u001b[0m\n\u001b[1;32m    186\u001b[0m     \u001b[0;31m# but it's overkill for just that one bit of state.\u001b[0m\u001b[0;34m\u001b[0m\u001b[0;34m\u001b[0m\u001b[0;34m\u001b[0m\u001b[0m\n\u001b[1;32m    187\u001b[0m     \u001b[0;32mdef\u001b[0m \u001b[0mmagic_deco\u001b[0m\u001b[0;34m(\u001b[0m\u001b[0marg\u001b[0m\u001b[0;34m)\u001b[0m\u001b[0;34m:\u001b[0m\u001b[0;34m\u001b[0m\u001b[0;34m\u001b[0m\u001b[0m\n\u001b[0;32m--> 188\u001b[0;31m         \u001b[0mcall\u001b[0m \u001b[0;34m=\u001b[0m \u001b[0;32mlambda\u001b[0m \u001b[0mf\u001b[0m\u001b[0;34m,\u001b[0m \u001b[0;34m*\u001b[0m\u001b[0ma\u001b[0m\u001b[0;34m,\u001b[0m \u001b[0;34m**\u001b[0m\u001b[0mk\u001b[0m\u001b[0;34m:\u001b[0m \u001b[0mf\u001b[0m\u001b[0;34m(\u001b[0m\u001b[0;34m*\u001b[0m\u001b[0ma\u001b[0m\u001b[0;34m,\u001b[0m \u001b[0;34m**\u001b[0m\u001b[0mk\u001b[0m\u001b[0;34m)\u001b[0m\u001b[0;34m\u001b[0m\u001b[0;34m\u001b[0m\u001b[0m\n\u001b[0m\u001b[1;32m    189\u001b[0m \u001b[0;34m\u001b[0m\u001b[0m\n\u001b[1;32m    190\u001b[0m         \u001b[0;32mif\u001b[0m \u001b[0mcallable\u001b[0m\u001b[0;34m(\u001b[0m\u001b[0marg\u001b[0m\u001b[0;34m)\u001b[0m\u001b[0;34m:\u001b[0m\u001b[0;34m\u001b[0m\u001b[0;34m\u001b[0m\u001b[0m\n",
            "\u001b[0;32m/usr/local/lib/python3.6/dist-packages/IPython/core/magics/execution.py\u001b[0m in \u001b[0;36mtime\u001b[0;34m(self, line, cell, local_ns)\u001b[0m\n\u001b[1;32m   1191\u001b[0m         \u001b[0;32melse\u001b[0m\u001b[0;34m:\u001b[0m\u001b[0;34m\u001b[0m\u001b[0;34m\u001b[0m\u001b[0m\n\u001b[1;32m   1192\u001b[0m             \u001b[0mst\u001b[0m \u001b[0;34m=\u001b[0m \u001b[0mclock2\u001b[0m\u001b[0;34m(\u001b[0m\u001b[0;34m)\u001b[0m\u001b[0;34m\u001b[0m\u001b[0;34m\u001b[0m\u001b[0m\n\u001b[0;32m-> 1193\u001b[0;31m             \u001b[0mexec\u001b[0m\u001b[0;34m(\u001b[0m\u001b[0mcode\u001b[0m\u001b[0;34m,\u001b[0m \u001b[0mglob\u001b[0m\u001b[0;34m,\u001b[0m \u001b[0mlocal_ns\u001b[0m\u001b[0;34m)\u001b[0m\u001b[0;34m\u001b[0m\u001b[0;34m\u001b[0m\u001b[0m\n\u001b[0m\u001b[1;32m   1194\u001b[0m             \u001b[0mend\u001b[0m \u001b[0;34m=\u001b[0m \u001b[0mclock2\u001b[0m\u001b[0;34m(\u001b[0m\u001b[0;34m)\u001b[0m\u001b[0;34m\u001b[0m\u001b[0;34m\u001b[0m\u001b[0m\n\u001b[1;32m   1195\u001b[0m             \u001b[0mout\u001b[0m \u001b[0;34m=\u001b[0m \u001b[0;32mNone\u001b[0m\u001b[0;34m\u001b[0m\u001b[0;34m\u001b[0m\u001b[0m\n",
            "\u001b[0;32m<timed exec>\u001b[0m in \u001b[0;36m<module>\u001b[0;34m()\u001b[0m\n",
            "\u001b[0;32m/usr/local/lib/python3.6/dist-packages/tensorflow/python/keras/engine/training.py\u001b[0m in \u001b[0;36mfit_generator\u001b[0;34m(self, generator, steps_per_epoch, epochs, verbose, callbacks, validation_data, validation_steps, class_weight, max_queue_size, workers, use_multiprocessing, shuffle, initial_epoch)\u001b[0m\n\u001b[1;32m   1424\u001b[0m         \u001b[0muse_multiprocessing\u001b[0m\u001b[0;34m=\u001b[0m\u001b[0muse_multiprocessing\u001b[0m\u001b[0;34m,\u001b[0m\u001b[0;34m\u001b[0m\u001b[0;34m\u001b[0m\u001b[0m\n\u001b[1;32m   1425\u001b[0m         \u001b[0mshuffle\u001b[0m\u001b[0;34m=\u001b[0m\u001b[0mshuffle\u001b[0m\u001b[0;34m,\u001b[0m\u001b[0;34m\u001b[0m\u001b[0;34m\u001b[0m\u001b[0m\n\u001b[0;32m-> 1426\u001b[0;31m         initial_epoch=initial_epoch)\n\u001b[0m\u001b[1;32m   1427\u001b[0m \u001b[0;34m\u001b[0m\u001b[0m\n\u001b[1;32m   1428\u001b[0m   def evaluate_generator(self,\n",
            "\u001b[0;32m/usr/local/lib/python3.6/dist-packages/tensorflow/python/keras/engine/training_generator.py\u001b[0m in \u001b[0;36mmodel_iteration\u001b[0;34m(model, data, steps_per_epoch, epochs, verbose, callbacks, validation_data, validation_steps, class_weight, max_queue_size, workers, use_multiprocessing, shuffle, initial_epoch, mode, batch_size, **kwargs)\u001b[0m\n\u001b[1;32m    189\u001b[0m       \u001b[0mprogbar\u001b[0m\u001b[0;34m.\u001b[0m\u001b[0mon_batch_begin\u001b[0m\u001b[0;34m(\u001b[0m\u001b[0mstep\u001b[0m\u001b[0;34m,\u001b[0m \u001b[0mbatch_logs\u001b[0m\u001b[0;34m)\u001b[0m\u001b[0;34m\u001b[0m\u001b[0;34m\u001b[0m\u001b[0m\n\u001b[1;32m    190\u001b[0m \u001b[0;34m\u001b[0m\u001b[0m\n\u001b[0;32m--> 191\u001b[0;31m       \u001b[0mbatch_outs\u001b[0m \u001b[0;34m=\u001b[0m \u001b[0mbatch_function\u001b[0m\u001b[0;34m(\u001b[0m\u001b[0;34m*\u001b[0m\u001b[0mbatch_data\u001b[0m\u001b[0;34m)\u001b[0m\u001b[0;34m\u001b[0m\u001b[0;34m\u001b[0m\u001b[0m\n\u001b[0m\u001b[1;32m    192\u001b[0m       \u001b[0;32mif\u001b[0m \u001b[0;32mnot\u001b[0m \u001b[0misinstance\u001b[0m\u001b[0;34m(\u001b[0m\u001b[0mbatch_outs\u001b[0m\u001b[0;34m,\u001b[0m \u001b[0mlist\u001b[0m\u001b[0;34m)\u001b[0m\u001b[0;34m:\u001b[0m\u001b[0;34m\u001b[0m\u001b[0;34m\u001b[0m\u001b[0m\n\u001b[1;32m    193\u001b[0m         \u001b[0mbatch_outs\u001b[0m \u001b[0;34m=\u001b[0m \u001b[0;34m[\u001b[0m\u001b[0mbatch_outs\u001b[0m\u001b[0;34m]\u001b[0m\u001b[0;34m\u001b[0m\u001b[0;34m\u001b[0m\u001b[0m\n",
            "\u001b[0;32m/usr/local/lib/python3.6/dist-packages/tensorflow/python/keras/engine/training.py\u001b[0m in \u001b[0;36mtrain_on_batch\u001b[0;34m(self, x, y, sample_weight, class_weight, reset_metrics)\u001b[0m\n\u001b[1;32m   1189\u001b[0m       \u001b[0;32melse\u001b[0m\u001b[0;34m:\u001b[0m\u001b[0;34m\u001b[0m\u001b[0;34m\u001b[0m\u001b[0m\n\u001b[1;32m   1190\u001b[0m         \u001b[0mself\u001b[0m\u001b[0;34m.\u001b[0m\u001b[0m_make_fit_function\u001b[0m\u001b[0;34m(\u001b[0m\u001b[0;34m)\u001b[0m\u001b[0;34m\u001b[0m\u001b[0;34m\u001b[0m\u001b[0m\n\u001b[0;32m-> 1191\u001b[0;31m         \u001b[0moutputs\u001b[0m \u001b[0;34m=\u001b[0m \u001b[0mself\u001b[0m\u001b[0;34m.\u001b[0m\u001b[0m_fit_function\u001b[0m\u001b[0;34m(\u001b[0m\u001b[0mins\u001b[0m\u001b[0;34m)\u001b[0m  \u001b[0;31m# pylint: disable=not-callable\u001b[0m\u001b[0;34m\u001b[0m\u001b[0;34m\u001b[0m\u001b[0m\n\u001b[0m\u001b[1;32m   1192\u001b[0m \u001b[0;34m\u001b[0m\u001b[0m\n\u001b[1;32m   1193\u001b[0m     \u001b[0;32mif\u001b[0m \u001b[0mreset_metrics\u001b[0m\u001b[0;34m:\u001b[0m\u001b[0;34m\u001b[0m\u001b[0;34m\u001b[0m\u001b[0m\n",
            "\u001b[0;32m/usr/local/lib/python3.6/dist-packages/tensorflow/contrib/tpu/python/tpu/keras_support.py\u001b[0m in \u001b[0;36m__call__\u001b[0;34m(***failed resolving arguments***)\u001b[0m\n\u001b[1;32m   1267\u001b[0m         \u001b[0mtpu_model_ops\u001b[0m\u001b[0;34m.\u001b[0m\u001b[0minfeed_op\u001b[0m\u001b[0;34m,\u001b[0m \u001b[0mtpu_model_ops\u001b[0m\u001b[0;34m.\u001b[0m\u001b[0mexecute_op\u001b[0m\u001b[0;34m,\u001b[0m\u001b[0;34m\u001b[0m\u001b[0;34m\u001b[0m\u001b[0m\n\u001b[1;32m   1268\u001b[0m         \u001b[0mtpu_model_ops\u001b[0m\u001b[0;34m.\u001b[0m\u001b[0moutfeed_op\u001b[0m\u001b[0;34m\u001b[0m\u001b[0;34m\u001b[0m\u001b[0m\n\u001b[0;32m-> 1269\u001b[0;31m     ], infeed_dict)\n\u001b[0m\u001b[1;32m   1270\u001b[0m     \u001b[0;32mreturn\u001b[0m \u001b[0mself\u001b[0m\u001b[0;34m.\u001b[0m\u001b[0m_process_outputs\u001b[0m\u001b[0;34m(\u001b[0m\u001b[0moutfeed_outputs\u001b[0m\u001b[0;34m)\u001b[0m\u001b[0;34m\u001b[0m\u001b[0;34m\u001b[0m\u001b[0m\n\u001b[1;32m   1271\u001b[0m \u001b[0;34m\u001b[0m\u001b[0m\n",
            "\u001b[0;32m/usr/local/lib/python3.6/dist-packages/tensorflow/python/client/session.py\u001b[0m in \u001b[0;36mrun\u001b[0;34m(self, fetches, feed_dict, options, run_metadata)\u001b[0m\n\u001b[1;32m    927\u001b[0m     \u001b[0;32mtry\u001b[0m\u001b[0;34m:\u001b[0m\u001b[0;34m\u001b[0m\u001b[0;34m\u001b[0m\u001b[0m\n\u001b[1;32m    928\u001b[0m       result = self._run(None, fetches, feed_dict, options_ptr,\n\u001b[0;32m--> 929\u001b[0;31m                          run_metadata_ptr)\n\u001b[0m\u001b[1;32m    930\u001b[0m       \u001b[0;32mif\u001b[0m \u001b[0mrun_metadata\u001b[0m\u001b[0;34m:\u001b[0m\u001b[0;34m\u001b[0m\u001b[0;34m\u001b[0m\u001b[0m\n\u001b[1;32m    931\u001b[0m         \u001b[0mproto_data\u001b[0m \u001b[0;34m=\u001b[0m \u001b[0mtf_session\u001b[0m\u001b[0;34m.\u001b[0m\u001b[0mTF_GetBuffer\u001b[0m\u001b[0;34m(\u001b[0m\u001b[0mrun_metadata_ptr\u001b[0m\u001b[0;34m)\u001b[0m\u001b[0;34m\u001b[0m\u001b[0;34m\u001b[0m\u001b[0m\n",
            "\u001b[0;32m/usr/local/lib/python3.6/dist-packages/tensorflow/python/client/session.py\u001b[0m in \u001b[0;36m_run\u001b[0;34m(self, handle, fetches, feed_dict, options, run_metadata)\u001b[0m\n\u001b[1;32m   1150\u001b[0m     \u001b[0;32mif\u001b[0m \u001b[0mfinal_fetches\u001b[0m \u001b[0;32mor\u001b[0m \u001b[0mfinal_targets\u001b[0m \u001b[0;32mor\u001b[0m \u001b[0;34m(\u001b[0m\u001b[0mhandle\u001b[0m \u001b[0;32mand\u001b[0m \u001b[0mfeed_dict_tensor\u001b[0m\u001b[0;34m)\u001b[0m\u001b[0;34m:\u001b[0m\u001b[0;34m\u001b[0m\u001b[0;34m\u001b[0m\u001b[0m\n\u001b[1;32m   1151\u001b[0m       results = self._do_run(handle, final_targets, final_fetches,\n\u001b[0;32m-> 1152\u001b[0;31m                              feed_dict_tensor, options, run_metadata)\n\u001b[0m\u001b[1;32m   1153\u001b[0m     \u001b[0;32melse\u001b[0m\u001b[0;34m:\u001b[0m\u001b[0;34m\u001b[0m\u001b[0;34m\u001b[0m\u001b[0m\n\u001b[1;32m   1154\u001b[0m       \u001b[0mresults\u001b[0m \u001b[0;34m=\u001b[0m \u001b[0;34m[\u001b[0m\u001b[0;34m]\u001b[0m\u001b[0;34m\u001b[0m\u001b[0;34m\u001b[0m\u001b[0m\n",
            "\u001b[0;32m/usr/local/lib/python3.6/dist-packages/tensorflow/python/client/session.py\u001b[0m in \u001b[0;36m_do_run\u001b[0;34m(self, handle, target_list, fetch_list, feed_dict, options, run_metadata)\u001b[0m\n\u001b[1;32m   1326\u001b[0m     \u001b[0;32mif\u001b[0m \u001b[0mhandle\u001b[0m \u001b[0;32mis\u001b[0m \u001b[0;32mNone\u001b[0m\u001b[0;34m:\u001b[0m\u001b[0;34m\u001b[0m\u001b[0;34m\u001b[0m\u001b[0m\n\u001b[1;32m   1327\u001b[0m       return self._do_call(_run_fn, feeds, fetches, targets, options,\n\u001b[0;32m-> 1328\u001b[0;31m                            run_metadata)\n\u001b[0m\u001b[1;32m   1329\u001b[0m     \u001b[0;32melse\u001b[0m\u001b[0;34m:\u001b[0m\u001b[0;34m\u001b[0m\u001b[0;34m\u001b[0m\u001b[0m\n\u001b[1;32m   1330\u001b[0m       \u001b[0;32mreturn\u001b[0m \u001b[0mself\u001b[0m\u001b[0;34m.\u001b[0m\u001b[0m_do_call\u001b[0m\u001b[0;34m(\u001b[0m\u001b[0m_prun_fn\u001b[0m\u001b[0;34m,\u001b[0m \u001b[0mhandle\u001b[0m\u001b[0;34m,\u001b[0m \u001b[0mfeeds\u001b[0m\u001b[0;34m,\u001b[0m \u001b[0mfetches\u001b[0m\u001b[0;34m)\u001b[0m\u001b[0;34m\u001b[0m\u001b[0;34m\u001b[0m\u001b[0m\n",
            "\u001b[0;32m/usr/local/lib/python3.6/dist-packages/tensorflow/python/client/session.py\u001b[0m in \u001b[0;36m_do_call\u001b[0;34m(self, fn, *args)\u001b[0m\n\u001b[1;32m   1332\u001b[0m   \u001b[0;32mdef\u001b[0m \u001b[0m_do_call\u001b[0m\u001b[0;34m(\u001b[0m\u001b[0mself\u001b[0m\u001b[0;34m,\u001b[0m \u001b[0mfn\u001b[0m\u001b[0;34m,\u001b[0m \u001b[0;34m*\u001b[0m\u001b[0margs\u001b[0m\u001b[0;34m)\u001b[0m\u001b[0;34m:\u001b[0m\u001b[0;34m\u001b[0m\u001b[0;34m\u001b[0m\u001b[0m\n\u001b[1;32m   1333\u001b[0m     \u001b[0;32mtry\u001b[0m\u001b[0;34m:\u001b[0m\u001b[0;34m\u001b[0m\u001b[0;34m\u001b[0m\u001b[0m\n\u001b[0;32m-> 1334\u001b[0;31m       \u001b[0;32mreturn\u001b[0m \u001b[0mfn\u001b[0m\u001b[0;34m(\u001b[0m\u001b[0;34m*\u001b[0m\u001b[0margs\u001b[0m\u001b[0;34m)\u001b[0m\u001b[0;34m\u001b[0m\u001b[0;34m\u001b[0m\u001b[0m\n\u001b[0m\u001b[1;32m   1335\u001b[0m     \u001b[0;32mexcept\u001b[0m \u001b[0merrors\u001b[0m\u001b[0;34m.\u001b[0m\u001b[0mOpError\u001b[0m \u001b[0;32mas\u001b[0m \u001b[0me\u001b[0m\u001b[0;34m:\u001b[0m\u001b[0;34m\u001b[0m\u001b[0;34m\u001b[0m\u001b[0m\n\u001b[1;32m   1336\u001b[0m       \u001b[0mmessage\u001b[0m \u001b[0;34m=\u001b[0m \u001b[0mcompat\u001b[0m\u001b[0;34m.\u001b[0m\u001b[0mas_text\u001b[0m\u001b[0;34m(\u001b[0m\u001b[0me\u001b[0m\u001b[0;34m.\u001b[0m\u001b[0mmessage\u001b[0m\u001b[0;34m)\u001b[0m\u001b[0;34m\u001b[0m\u001b[0;34m\u001b[0m\u001b[0m\n",
            "\u001b[0;32m/usr/local/lib/python3.6/dist-packages/tensorflow/python/client/session.py\u001b[0m in \u001b[0;36m_run_fn\u001b[0;34m(feed_dict, fetch_list, target_list, options, run_metadata)\u001b[0m\n\u001b[1;32m   1317\u001b[0m       \u001b[0mself\u001b[0m\u001b[0;34m.\u001b[0m\u001b[0m_extend_graph\u001b[0m\u001b[0;34m(\u001b[0m\u001b[0;34m)\u001b[0m\u001b[0;34m\u001b[0m\u001b[0;34m\u001b[0m\u001b[0m\n\u001b[1;32m   1318\u001b[0m       return self._call_tf_sessionrun(\n\u001b[0;32m-> 1319\u001b[0;31m           options, feed_dict, fetch_list, target_list, run_metadata)\n\u001b[0m\u001b[1;32m   1320\u001b[0m \u001b[0;34m\u001b[0m\u001b[0m\n\u001b[1;32m   1321\u001b[0m     \u001b[0;32mdef\u001b[0m \u001b[0m_prun_fn\u001b[0m\u001b[0;34m(\u001b[0m\u001b[0mhandle\u001b[0m\u001b[0;34m,\u001b[0m \u001b[0mfeed_dict\u001b[0m\u001b[0;34m,\u001b[0m \u001b[0mfetch_list\u001b[0m\u001b[0;34m)\u001b[0m\u001b[0;34m:\u001b[0m\u001b[0;34m\u001b[0m\u001b[0;34m\u001b[0m\u001b[0m\n",
            "\u001b[0;32m/usr/local/lib/python3.6/dist-packages/tensorflow/python/client/session.py\u001b[0m in \u001b[0;36m_call_tf_sessionrun\u001b[0;34m(self, options, feed_dict, fetch_list, target_list, run_metadata)\u001b[0m\n\u001b[1;32m   1405\u001b[0m     return tf_session.TF_SessionRun_wrapper(\n\u001b[1;32m   1406\u001b[0m         \u001b[0mself\u001b[0m\u001b[0;34m.\u001b[0m\u001b[0m_session\u001b[0m\u001b[0;34m,\u001b[0m \u001b[0moptions\u001b[0m\u001b[0;34m,\u001b[0m \u001b[0mfeed_dict\u001b[0m\u001b[0;34m,\u001b[0m \u001b[0mfetch_list\u001b[0m\u001b[0;34m,\u001b[0m \u001b[0mtarget_list\u001b[0m\u001b[0;34m,\u001b[0m\u001b[0;34m\u001b[0m\u001b[0;34m\u001b[0m\u001b[0m\n\u001b[0;32m-> 1407\u001b[0;31m         run_metadata)\n\u001b[0m\u001b[1;32m   1408\u001b[0m \u001b[0;34m\u001b[0m\u001b[0m\n\u001b[1;32m   1409\u001b[0m   \u001b[0;32mdef\u001b[0m \u001b[0m_call_tf_sessionprun\u001b[0m\u001b[0;34m(\u001b[0m\u001b[0mself\u001b[0m\u001b[0;34m,\u001b[0m \u001b[0mhandle\u001b[0m\u001b[0;34m,\u001b[0m \u001b[0mfeed_dict\u001b[0m\u001b[0;34m,\u001b[0m \u001b[0mfetch_list\u001b[0m\u001b[0;34m)\u001b[0m\u001b[0;34m:\u001b[0m\u001b[0;34m\u001b[0m\u001b[0;34m\u001b[0m\u001b[0m\n",
            "\u001b[0;31mKeyboardInterrupt\u001b[0m: "
          ]
        }
      ]
    }
  ]
}